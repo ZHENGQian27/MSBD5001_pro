{
 "cells": [
  {
   "cell_type": "code",
   "execution_count": 1,
   "metadata": {},
   "outputs": [],
   "source": [
    "import numpy as np\n",
    "import pandas as pd\n",
    "import os\n",
    "import math\n",
    "import matplotlib.pyplot as plt\n",
    "\n",
    "%matplotlib inline\n",
    "import seaborn; seaborn.set()\n",
    "\n",
    "# Data sets\n",
    "TRAINING = \"./data/train.csv\"\n",
    "TEST = \"./data/test.csv\""
   ]
  },
  {
   "cell_type": "code",
   "execution_count": 2,
   "metadata": {},
   "outputs": [],
   "source": [
    "data = pd.read_csv(TRAINING, dayfirst=True, parse_dates=['date'])\n",
    "test_data = pd.read_csv(TEST, dayfirst=True, parse_dates=['date'])"
   ]
  },
  {
   "cell_type": "code",
   "execution_count": 3,
   "metadata": {},
   "outputs": [],
   "source": [
    "data['y-m-d'] = data['date'].dt.date"
   ]
  },
  {
   "cell_type": "code",
   "execution_count": null,
   "metadata": {},
   "outputs": [],
   "source": [
    "data"
   ]
  },
  {
   "cell_type": "code",
   "execution_count": 4,
   "metadata": {},
   "outputs": [],
   "source": [
    "test_data['y-m-d'] = test_data['date'].dt.date"
   ]
  },
  {
   "cell_type": "markdown",
   "metadata": {},
   "source": [
    "### 增加特征0: 月/日/时"
   ]
  },
  {
   "cell_type": "code",
   "execution_count": 5,
   "metadata": {},
   "outputs": [],
   "source": [
    "data['year'] = pd.Series([i.year for i in data['date']])"
   ]
  },
  {
   "cell_type": "code",
   "execution_count": 6,
   "metadata": {},
   "outputs": [],
   "source": [
    "data['month'] = pd.Series([i.month for i in data['date']])"
   ]
  },
  {
   "cell_type": "code",
   "execution_count": 7,
   "metadata": {},
   "outputs": [],
   "source": [
    "data['day'] = pd.Series([i.day for i in data['date']])"
   ]
  },
  {
   "cell_type": "code",
   "execution_count": 8,
   "metadata": {},
   "outputs": [],
   "source": [
    "data['hour'] = pd.Series([i.hour for i in data['date']])"
   ]
  },
  {
   "cell_type": "code",
   "execution_count": 9,
   "metadata": {},
   "outputs": [],
   "source": [
    "test_data['year'] = pd.Series([i.year for i in test_data['date']])\n",
    "test_data['month'] = pd.Series([i.month for i in test_data['date']])\n",
    "test_data['day'] = pd.Series([i.day for i in test_data['date']])\n",
    "test_data['hour'] = pd.Series([i.hour for i in test_data['date']])"
   ]
  },
  {
   "cell_type": "code",
   "execution_count": null,
   "metadata": {},
   "outputs": [],
   "source": [
    "data"
   ]
  },
  {
   "cell_type": "markdown",
   "metadata": {},
   "source": [
    "### 增加特征1： 星期"
   ]
  },
  {
   "cell_type": "code",
   "execution_count": 10,
   "metadata": {},
   "outputs": [],
   "source": [
    "#指定date为index\n",
    "data.set_index(['date'], inplace=True)\n",
    "#train_data.head(2)"
   ]
  },
  {
   "cell_type": "code",
   "execution_count": 11,
   "metadata": {},
   "outputs": [],
   "source": [
    "test_data.set_index(['date'], inplace=True)\n",
    "#test_data.head(2)"
   ]
  },
  {
   "cell_type": "code",
   "execution_count": 12,
   "metadata": {},
   "outputs": [],
   "source": [
    "def add_dayofweek(daily):\n",
    "    days = ['Mon','Tue','Wed','Thurs','Fri','Sat','Sun']\n",
    "    for i in range(7):\n",
    "        daily[days[i]] = (daily.index.dayofweek == i).astype(float)"
   ]
  },
  {
   "cell_type": "code",
   "execution_count": 13,
   "metadata": {},
   "outputs": [],
   "source": [
    "add_dayofweek(data)"
   ]
  },
  {
   "cell_type": "code",
   "execution_count": 14,
   "metadata": {},
   "outputs": [],
   "source": [
    "add_dayofweek(test_data)"
   ]
  },
  {
   "cell_type": "code",
   "execution_count": null,
   "metadata": {},
   "outputs": [],
   "source": [
    "data"
   ]
  },
  {
   "cell_type": "markdown",
   "metadata": {},
   "source": [
    "### 增加特征2: 天气"
   ]
  },
  {
   "cell_type": "code",
   "execution_count": 15,
   "metadata": {},
   "outputs": [],
   "source": [
    "weather = pd.read_csv('./data/hongkong.csv', dayfirst=True, parse_dates=['date_time'])\n",
    "weather.set_index(['date_time'], inplace=True)\n",
    "# df_weather = pd.read_csv('hongkong.csv', parse_dates=['date_time'], index_col='date_time', date_parser=dateparse)\n",
    "weather_fea = weather[['tempC','visibility','winddirDegree','windspeedKmph','humidity','cloudcover', 'WindChillC']]"
   ]
  },
  {
   "cell_type": "code",
   "execution_count": null,
   "metadata": {},
   "outputs": [],
   "source": [
    "weather.columns"
   ]
  },
  {
   "cell_type": "code",
   "execution_count": 18,
   "metadata": {},
   "outputs": [],
   "source": [
    "data.set_index('y-m-d', inplace=True)\n",
    "data = data.join(weather_fea)"
   ]
  },
  {
   "cell_type": "code",
   "execution_count": 19,
   "metadata": {},
   "outputs": [],
   "source": [
    "test_data.set_index('y-m-d', inplace=True)\n",
    "test_data = test_data.join(weather_fea)"
   ]
  },
  {
   "cell_type": "code",
   "execution_count": null,
   "metadata": {},
   "outputs": [],
   "source": [
    "data"
   ]
  },
  {
   "cell_type": "markdown",
   "metadata": {},
   "source": [
    "### 增加特征3:  是否为节假日"
   ]
  },
  {
   "cell_type": "code",
   "execution_count": 20,
   "metadata": {},
   "outputs": [],
   "source": [
    "# HKholidays\n",
    "HKholidays_2017 = pd.to_datetime(['2017-01-02', '2017-1-28', '2017-1-30', '2017-1-31', \\\n",
    "                                  '2017-4-4', '2017-4-5', '2017-4-15', '2017-4-17',  \\\n",
    "                                  '2017-5-1', '2017-5-3', '2017-5-30', '2017-7-1',   \\\n",
    "                                  '2017-10-2', '2017-10-5', '2017-10-28', '2017-12-25', '2017-12-26',\n",
    "                                  '2018-01-01', '2018-2-16', '2018-2-17', '2018-2-19', \\\n",
    "                                  '2018-3-30', '2018-3-31', '2018-4-2', '2018-4-5',  \\\n",
    "                                  '2018-5-1', '2018-5-22', '2018-6-18', '2018-7-2',   \\\n",
    "                                  '2018-9-25', '2018-10-1', '2018-10-17', '2018-12-25', '2018-12-26'])"
   ]
  },
  {
   "cell_type": "code",
   "execution_count": 21,
   "metadata": {},
   "outputs": [],
   "source": [
    "HKholidays_2017 = pd.to_datetime(HKholidays_2017)"
   ]
  },
  {
   "cell_type": "code",
   "execution_count": 22,
   "metadata": {},
   "outputs": [],
   "source": [
    "HKholidays_2017 = pd.Series(1,index=HKholidays_2017,name='holiday')"
   ]
  },
  {
   "cell_type": "code",
   "execution_count": 23,
   "metadata": {},
   "outputs": [],
   "source": [
    "data = data.join(HKholidays_2017)"
   ]
  },
  {
   "cell_type": "code",
   "execution_count": 24,
   "metadata": {},
   "outputs": [],
   "source": [
    "data['holiday'].fillna(0,inplace=True) #以0填充缺失值"
   ]
  },
  {
   "cell_type": "code",
   "execution_count": 25,
   "metadata": {},
   "outputs": [],
   "source": [
    "#test_data.set_index('y-m-d', inplace=True)\n",
    "test_data = test_data.join(HKholidays_2017)\n",
    "test_data['holiday'].fillna(0,inplace=True) #以0填充缺失值"
   ]
  },
  {
   "cell_type": "code",
   "execution_count": null,
   "metadata": {},
   "outputs": [],
   "source": [
    "data"
   ]
  },
  {
   "cell_type": "markdown",
   "metadata": {},
   "source": [
    "## 准备数据"
   ]
  },
  {
   "cell_type": "code",
   "execution_count": 31,
   "metadata": {},
   "outputs": [],
   "source": [
    "column_names = ['year', 'Mon','Tue','Wed','Thurs','Fri','Sat','Sun','month', 'day', 'hour', 'holiday', 'tempC', 'visibility', 'winddirDegree', 'windspeedKmph','humidity','cloudcover', 'WindChillC']\n",
    "# column_names = ['Sat','Sun', 'hour', 'holiday']\n",
    "# column_names = ['Mon','Tue','Wed','Thurs','Fri','Sat','Sun','holiday','hour']\n",
    "# column_names = column_names + hour\n",
    "X = data[column_names]\n",
    "X_sub = test_data[column_names]\n",
    "\n",
    "y = data['speed']\n",
    "#y_test = test['speed']"
   ]
  },
  {
   "cell_type": "markdown",
   "metadata": {},
   "source": [
    "###  XGBoost"
   ]
  },
  {
   "cell_type": "code",
   "execution_count": 27,
   "metadata": {},
   "outputs": [
    {
     "name": "stdout",
     "output_type": "stream",
     "text": [
      "----------\n",
      "mse: 2.5995119935658946\n",
      "回归树二乘偏差均值: 8.402239290272808\n"
     ]
    }
   ],
   "source": [
    "import xgboost as xgb\n",
    "from xgboost import XGBRegressor\n",
    "from sklearn.model_selection import train_test_split, GridSearchCV\n",
    "from sklearn.metrics import mean_absolute_error, mean_squared_error\n",
    "\n",
    "# lt = np.arange(0.06,0.1,0.005)\n",
    "X_train, X_test, y_train, y_test = train_test_split(X, y, test_size=0.01, random_state=1)\n",
    "# for i in lt:\n",
    "\n",
    "#X_train, y_train= X, y\n",
    "model = xgb.XGBRegressor(max_depth=7, learning_rate=0.09, n_estimators=500, objective='reg:squarederror') #MSE\n",
    "model.fit(X_train, y_train)\n",
    "y_pre = model.predict(X_test)\n",
    "print('-'*10)\n",
    "# print(i)\n",
    "print('回归树二乘偏差均值:', mean_squared_error(y_test, y_pre))"
   ]
  },
  {
   "cell_type": "code",
   "execution_count": null,
   "metadata": {},
   "outputs": [],
   "source": [
    "print(model.feature_importances_)\n",
    "from matplotlib import pyplot\n",
    "pyplot.bar(range(len(model.feature_importances_)), model.feature_importances_)\n",
    "pyplot.show()"
   ]
  },
  {
   "cell_type": "markdown",
   "metadata": {},
   "source": [
    "### 导出数据 "
   ]
  },
  {
   "cell_type": "code",
   "execution_count": 28,
   "metadata": {},
   "outputs": [],
   "source": [
    "test_data['speed'] = model.predict(X_sub)"
   ]
  },
  {
   "cell_type": "code",
   "execution_count": 29,
   "metadata": {},
   "outputs": [],
   "source": [
    "test_pre = test_data[['id', 'speed']].set_index('id')"
   ]
  },
  {
   "cell_type": "code",
   "execution_count": null,
   "metadata": {
    "scrolled": false
   },
   "outputs": [],
   "source": [
    "test_pre"
   ]
  },
  {
   "cell_type": "code",
   "execution_count": null,
   "metadata": {},
   "outputs": [],
   "source": [
    "test_pre.to_csv('Submission_17th_newwea.csv')  "
   ]
  }
 ],
 "metadata": {
  "kernelspec": {
   "display_name": "Python 3",
   "language": "python",
   "name": "python3"
  },
  "language_info": {
   "codemirror_mode": {
    "name": "ipython",
    "version": 3
   },
   "file_extension": ".py",
   "mimetype": "text/x-python",
   "name": "python",
   "nbconvert_exporter": "python",
   "pygments_lexer": "ipython3",
   "version": "3.8.3"
  }
 },
 "nbformat": 4,
 "nbformat_minor": 4
}
